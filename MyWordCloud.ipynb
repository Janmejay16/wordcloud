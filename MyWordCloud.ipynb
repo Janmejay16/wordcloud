{
  "nbformat": 4,
  "nbformat_minor": 0,
  "metadata": {
    "colab": {
      "name": "MyWordCloud.ipynb",
      "provenance": [],
      "collapsed_sections": []
    },
    "kernelspec": {
      "name": "python3",
      "display_name": "Python 3"
    }
  },
  "cells": [
    {
      "cell_type": "code",
      "metadata": {
        "id": "t4Lenv_NjVr5",
        "colab_type": "code",
        "colab": {}
      },
      "source": [
        "!pip install wordcloud\n",
        "import wordcloud\n",
        "import numpy as np\n",
        "from matplotlib import pyplot as plt\n",
        "import io\n",
        "import sys"
      ],
      "execution_count": 0,
      "outputs": []
    },
    {
      "cell_type": "code",
      "metadata": {
        "id": "4Wz32mQ8hJSQ",
        "colab_type": "code",
        "colab": {}
      },
      "source": [
        "file_contents = input(\"Enter your text here : \")"
      ],
      "execution_count": 0,
      "outputs": []
    },
    {
      "cell_type": "code",
      "metadata": {
        "id": "P0LAdL8WtkNs",
        "colab_type": "code",
        "colab": {}
      },
      "source": [
        "def calculate_frequencies(file_contents):\n",
        "    # Here is a list of punctuations and uninteresting words you can use to process your text\n",
        "    punctuations = '''!()-[]{};:'\"\\,<>./?@#$%^&*_~'''\n",
        "    uninteresting_words = [\"the\", \"a\", \"to\", \"if\", \"is\", \"it\", \"of\", \"and\", \"or\", \"an\", \"as\", \"i\", \"me\", \"my\", \\\n",
        "    \"we\", \"our\", \"ours\", \"you\", \"your\", \"yours\", \"he\", \"she\", \"him\", \"his\", \"her\", \"hers\", \"its\", \"they\", \"them\", \\\n",
        "    \"their\", \"what\", \"which\", \"who\", \"whom\", \"this\", \"that\", \"am\", \"are\", \"was\", \"were\", \"be\", \"been\", \"being\", \\\n",
        "    \"have\", \"has\", \"had\", \"do\", \"does\", \"did\", \"but\", \"at\", \"by\", \"with\", \"from\", \"here\", \"when\", \"where\", \"how\", \\\n",
        "    \"all\", \"any\", \"both\", \"each\", \"few\", \"more\", \"some\", \"such\", \"no\", \"nor\", \"too\", \"very\", \"can\", \"will\", \"just\",\"on\",\"so\",\"in\",\"for\",\"into\",\"also\",\"really\",\"instead\",\"though\",\"although\"]\n",
        "    no_punc = \"\"\n",
        "    for character in file_contents:\n",
        "        if character not in punctuations:\n",
        "            no_punc += character\n",
        "    no_extra_words = {}\n",
        "    no_punc = no_punc.lower()\n",
        "    no_punc1 = no_punc.split(\" \")\n",
        "    for elem in no_punc1:\n",
        "        if elem not in uninteresting_words:\n",
        "            no_extra_words.update({elem : no_punc.count(elem)}) \n",
        "    \n",
        "    \n",
        "    #wordcloud\n",
        "    cloud = wordcloud.WordCloud()\n",
        "    cloud.generate_from_frequencies(no_extra_words)\n",
        "    return cloud.to_array()"
      ],
      "execution_count": 0,
      "outputs": []
    },
    {
      "cell_type": "code",
      "metadata": {
        "id": "KEkjpP5TtkTT",
        "colab_type": "code",
        "colab": {}
      },
      "source": [
        "myimage = calculate_frequencies(file_contents)\n",
        "plt.imshow(myimage, interpolation = 'nearest')\n",
        "plt.axis('off')\n",
        "plt.show()\n"
      ],
      "execution_count": 0,
      "outputs": []
    }
  ]
}